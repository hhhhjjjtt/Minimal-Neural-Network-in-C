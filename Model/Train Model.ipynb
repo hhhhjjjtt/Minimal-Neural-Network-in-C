{
 "cells": [
  {
   "cell_type": "code",
   "execution_count": 1,
   "id": "d29d33a3",
   "metadata": {},
   "outputs": [],
   "source": [
    "import torch\n",
    "import torch.nn as nn\n",
    "from torch import optim\n",
    "import torch.nn.functional as F\n",
    "from torch.utils.data import Dataset, DataLoader\n",
    "import torchvision\n",
    "import numpy as np\n",
    "import matplotlib.pyplot as plt\n",
    "import pandas as pd"
   ]
  },
  {
   "cell_type": "code",
   "execution_count": 2,
   "id": "c9f36b38",
   "metadata": {},
   "outputs": [
    {
     "name": "stdout",
     "output_type": "stream",
     "text": [
      "Batch of images shape: torch.Size([32, 784])\n",
      "Batch of labels: tensor([3, 0, 5, 7, 0, 7, 2, 4, 3, 8, 7, 4, 0, 7, 3, 7, 9, 2, 6, 7, 9, 8, 9, 9,\n",
      "        2, 0, 1, 5, 0, 7, 6, 8])\n"
     ]
    }
   ],
   "source": [
    "class MNISTDataset(Dataset):\n",
    "    def __init__(self, csv_file):\n",
    "        data = pd.read_csv(csv_file)\n",
    "        self.labels = torch.tensor(data['label'].values, dtype=torch.long)\n",
    "        self.images = torch.tensor(data.drop(columns='label').values, dtype=torch.float32).reshape(-1, 28 * 28)\n",
    "    \n",
    "    def __len__(self):\n",
    "        return len(self.labels)\n",
    "    \n",
    "    def __getitem__(self, idx):\n",
    "        image = self.images[idx]\n",
    "        label = self.labels[idx]\n",
    "        return image, label\n",
    "\n",
    "train_dataset = MNISTDataset('./mnist_train.csv')\n",
    "train_dataloader = DataLoader(train_dataset, batch_size=32, shuffle=True)\n",
    "test_dataset = MNISTDataset('./mnist_test.csv')\n",
    "test_dataloader = DataLoader(test_dataset, batch_size=32, shuffle=False)\n",
    "\n",
    "for images, labels in train_dataloader:\n",
    "    print(\"Batch of images shape:\", images.shape)\n",
    "    print(\"Batch of labels:\", labels)\n",
    "    break"
   ]
  },
  {
   "cell_type": "code",
   "execution_count": 3,
   "id": "da91e70f",
   "metadata": {},
   "outputs": [],
   "source": [
    "class FullyConnectedNN(nn.Module):\n",
    "    def __init__(self):\n",
    "        super().__init__()\n",
    "        self.fc1 = nn.Linear(784, 64)\n",
    "        self.fc2 = nn.Linear(64,10)\n",
    "\n",
    "    def forward(self, x):\n",
    "        x = self.fc1(x)\n",
    "        x = torch.relu(x)\n",
    "        x = self.fc2(x)\n",
    "        return x"
   ]
  },
  {
   "cell_type": "code",
   "execution_count": 4,
   "id": "0371b7d0",
   "metadata": {},
   "outputs": [],
   "source": [
    "device = torch.device('cuda' if torch.cuda.is_available() else 'cpu')\n",
    "model = FullyConnectedNN().to(device)\n",
    "criterion = nn.CrossEntropyLoss()\n",
    "optimizer = optim.Adam(model.parameters(), lr=0.001)"
   ]
  },
  {
   "cell_type": "code",
   "execution_count": 12,
   "id": "0b1d1944",
   "metadata": {},
   "outputs": [
    {
     "name": "stdout",
     "output_type": "stream",
     "text": [
      "Epoch 1, Loss: 0.5500900639007489\n",
      "Epoch 2, Loss: 0.2494664280464252\n",
      "Epoch 3, Loss: 0.22279974812498937\n",
      "Epoch 4, Loss: 0.2117241875372827\n",
      "Epoch 5, Loss: 0.2008217093044271\n",
      "Epoch 6, Loss: 0.19336176056085774\n",
      "Epoch 7, Loss: 0.1878412031861022\n",
      "Epoch 8, Loss: 0.17891357129669438\n",
      "Epoch 9, Loss: 0.17501198984683336\n",
      "Epoch 10, Loss: 0.17968360941230785\n"
     ]
    }
   ],
   "source": [
    "num_epochs = 10\n",
    "model.train()\n",
    "\n",
    "for epoch in range(num_epochs):\n",
    "    running_loss = 0.0\n",
    "    for images, labels in train_dataloader:\n",
    "        images, labels = images.to(device), labels.to(device)\n",
    "\n",
    "        optimizer.zero_grad()\n",
    "\n",
    "        outputs = model(images)\n",
    "        loss = criterion(outputs, labels)\n",
    "\n",
    "        loss.backward()\n",
    "        optimizer.step()\n",
    "\n",
    "        running_loss += loss.item()\n",
    "    print(f'Epoch {epoch + 1}, Loss: {running_loss / len(train_dataloader)}')"
   ]
  },
  {
   "cell_type": "code",
   "execution_count": 69,
   "id": "bda85ea7",
   "metadata": {},
   "outputs": [],
   "source": [
    "#torch.save(model.state_dict(), 'FullyConnectedNN.pth')"
   ]
  },
  {
   "cell_type": "code",
   "execution_count": 5,
   "id": "987170ba",
   "metadata": {},
   "outputs": [
    {
     "data": {
      "text/plain": [
       "FullyConnectedNN(\n",
       "  (fc1): Linear(in_features=784, out_features=64, bias=True)\n",
       "  (fc2): Linear(in_features=64, out_features=10, bias=True)\n",
       ")"
      ]
     },
     "execution_count": 5,
     "metadata": {},
     "output_type": "execute_result"
    }
   ],
   "source": [
    "model = FullyConnectedNN()\n",
    "model.load_state_dict(torch.load(\"FullyConnectedNN.pth\"))\n",
    "model.to(device)"
   ]
  },
  {
   "cell_type": "code",
   "execution_count": 6,
   "id": "6d2b3a39",
   "metadata": {},
   "outputs": [
    {
     "name": "stdout",
     "output_type": "stream",
     "text": [
      "Accuracy of the network on the 10000 test images: 94.74%\n"
     ]
    }
   ],
   "source": [
    "model.eval()\n",
    "correct = 0\n",
    "total = 0\n",
    "with torch.no_grad():\n",
    "    for images, labels in test_dataloader:\n",
    "        images, labels = images.to(device), labels.to(device)\n",
    "        outputs = model(images)\n",
    "        _, predicted = torch.max(outputs.data, 1)\n",
    "        total += labels.size(0)\n",
    "        correct += (predicted == labels).sum().item()\n",
    "\n",
    "accuracy = 100 * correct / total\n",
    "print(f'Accuracy of the network on the 10000 test images: {accuracy:.2f}%')"
   ]
  },
  {
   "cell_type": "code",
   "execution_count": 28,
   "id": "d04696de",
   "metadata": {},
   "outputs": [
    {
     "name": "stdout",
     "output_type": "stream",
     "text": [
      "actual label: \n",
      "tensor(7)\n",
      "predicted: \n",
      "tensor(7, device='cuda:0')\n",
      "verify hard matrix multiplication: \n",
      "tensor(7, device='cuda:0')\n"
     ]
    }
   ],
   "source": [
    "test_img, test_num = test_dataset[0]\n",
    "with torch.no_grad():\n",
    "    test_img = test_img.to(device)\n",
    "    test_output = model.forward(test_img)\n",
    "    print(\"actual label: \")\n",
    "    print(test_num)\n",
    "    print(\"predicted: \")\n",
    "    print(torch.argmax(test_output))\n",
    "\n",
    "print(\"verify hard matrix multiplication: \")\n",
    "layer1_Output = (model.fc1.weight @ test_img.view(784, 1)) + model.fc1.bias.view(64,1)\n",
    "layer2_Output = (model.fc2.weight @ torch.relu(layer1_Output)) + model.fc2.bias.view(10,1)\n",
    "print(torch.argmax(layer2_Output.view(-1, 10)))"
   ]
  },
  {
   "cell_type": "code",
   "execution_count": 20,
   "id": "28ad1982",
   "metadata": {},
   "outputs": [],
   "source": [
    "bias1 = model.fc1.bias.cpu().detach().flatten().numpy()\n",
    "df_b1 = pd.DataFrame([bias1])\n",
    "df_b1.insert(0, 'index', -1)\n",
    "df_b1.to_csv(\"fc1_bias.csv\", index=False, header=False)"
   ]
  },
  {
   "cell_type": "code",
   "execution_count": 19,
   "id": "505e81ad",
   "metadata": {},
   "outputs": [],
   "source": [
    "weights = model.fc1.weight.cpu().detach().numpy()\n",
    "df = pd.DataFrame(weights)\n",
    "df.to_csv(\"fc1_weights.csv\", index=False, header=False)"
   ]
  },
  {
   "cell_type": "code",
   "execution_count": 21,
   "id": "80c68a4a",
   "metadata": {},
   "outputs": [],
   "source": [
    "bias2 = model.fc2.bias.cpu().detach().flatten().numpy()\n",
    "df_b2 = pd.DataFrame([bias2])\n",
    "df_b2.insert(0, 'index', -1)\n",
    "df_b2.to_csv(\"fc2_bias.csv\", index=False, header=False)"
   ]
  },
  {
   "cell_type": "code",
   "execution_count": 22,
   "id": "a87d6d38",
   "metadata": {},
   "outputs": [],
   "source": [
    "weights2 = model.fc2.weight.cpu().detach().numpy()\n",
    "df2 = pd.DataFrame(weights2)\n",
    "df2.to_csv(\"fc2_weights.csv\", index=False, header=False)"
   ]
  },
  {
   "cell_type": "code",
   "execution_count": null,
   "id": "21d0a000",
   "metadata": {},
   "outputs": [],
   "source": []
  }
 ],
 "metadata": {
  "kernelspec": {
   "display_name": "Python 3 (ipykernel)",
   "language": "python",
   "name": "python3"
  },
  "language_info": {
   "codemirror_mode": {
    "name": "ipython",
    "version": 3
   },
   "file_extension": ".py",
   "mimetype": "text/x-python",
   "name": "python",
   "nbconvert_exporter": "python",
   "pygments_lexer": "ipython3",
   "version": "3.9.13"
  }
 },
 "nbformat": 4,
 "nbformat_minor": 5
}
